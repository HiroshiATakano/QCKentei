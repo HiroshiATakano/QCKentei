{
 "cells": [
  {
   "cell_type": "markdown",
   "id": "0d07fde3",
   "metadata": {},
   "source": [
    "# Uso e interpretación de datos\n",
    "\n",
    "Las siete herramientas de la calidad son técnicas importantes para resumir y analizar datos al abordar la resolución de problemas relacionados con la gestión de la calidad"
   ]
  },
  {
   "cell_type": "code",
   "execution_count": null,
   "id": "122550b1",
   "metadata": {},
   "outputs": [],
   "source": [
    "import os\n",
    "\n",
    "try:\n",
    "  os.chdir('../Python/QCKentei4')\n",
    "except:\n",
    "  pass\n",
    "\n",
    "path = os.getcwd()\n",
    "path"
   ]
  },
  {
   "cell_type": "code",
   "execution_count": null,
   "id": "f4d676e5",
   "metadata": {},
   "outputs": [],
   "source": [
    "import numpy as np\n",
    "import matplotlib.pyplot as plt\n",
    "import pandas as pd\n",
    "import random\n",
    "from scipy.stats import norm\n",
    "\n",
    "from PIL import Image\n",
    "\n",
    "import gspread \n",
    "from google.oauth2.service_account import Credentials"
   ]
  },
  {
   "cell_type": "markdown",
   "id": "1e50664e",
   "metadata": {},
   "source": [
    "## 08-01 Las siete herramientas de la calidad\n",
    "\n",
    "### 1. Las site herramientas de la calidad\n",
    "\n",
    "Las siete herramientas de la calidad son instrumentos relacionados con la forma de resumir datos, que permiten procesarlos y representarlos gráficamente, haciendo visible la información. Se utilizan frecuentamente en la resolución de problemas dentro de la gestión de la calidad.\n",
    "\n",
    "#### (1) Caracteristicas de las Siete Herramientas de la Calidad:\n",
    "1. Metodologias sencillas que cualquiera puede utilizar de inmediato.\n",
    "2. Se utilizan principalmente para analizar datos numéricos.\n",
    "3. Se emplean en diversas etapas de la resolución de problemas.\n",
    "4. Las metodologias se representan gráficamente, lo que permite comprender los resultados de un vistazo."
   ]
  },
  {
   "cell_type": "markdown",
   "id": "5afbf3b6",
   "metadata": {},
   "source": [
    "#### (2) Las Siete Herramientas de la Calidad y la Estratificación:\n",
    "\n",
    "1. Diagrama de Pareto: Permite identificar los problemas prioritarios en los que se debe enfocar la atención.\n",
    "2. Diagrama de Causa-Efecto (Diagrama de Ishikawa o Diagrama de Espina de Pescado): Organiza las relaciones entre un efecto (característica) y sus posibles causas (factores).\n",
    "3. Hoja de Verificación (Checklist o Hoja de Recolección de Datos): Facilita la recolección y el registro de datos de forma sencilla, así como la realización inspecciones y verficaciones.\n",
    "4. Histograma: Permite comprender la tendencia central y la dispersión de los datos.\n",
    "5. Diagrama de Dispersión: Ayuda a identificar la relación entre dos conjuntos de datos emparejados.\n",
    "6. Gráficos (Diagramas): Permiten visualizar la magnitud de los datos y su evolución en el tiempo.\n",
    "7. Gráfico de Control: Ayuda a comprender la variación de un proceso a lo largo del tiempo y a determinar si el proceso se encuentr abajo control estadistico.\n",
    "8. Estratificación: Divide los datos en grupos en funcioón de sus similitudes o caracteristicas comunes."
   ]
  },
  {
   "cell_type": "markdown",
   "id": "3e267a45",
   "metadata": {},
   "source": [
    "### 2. Diagrama de Pareto\n",
    "\n",
    "Un Diagrama de Paret es una gráfica que organiza valores de una caracteristica especifica (como frecuencia de ocurrencia o pérdidas económicas) en categorias, ordenadas de mayor a menor cantidad de tados, permitiendo identificar de un vistazo en qué categorias se debe enfocar la atención.\n",
    "\n",
    "* El Principio de Pareto\n",
    "\n",
    "* Enfoque prioritario\n",
    "\n",
    "#### (1) Cómo eleborar un diagrama de Pareto\n",
    "\n",
    "#### (2) Caracteristicas del diagrama de Pareto\n",
    "\n",
    "#### (3) Puntos clave para la aplicación del diagrama de Pareto"
   ]
  },
  {
   "cell_type": "code",
   "execution_count": null,
   "id": "2b851c5c",
   "metadata": {},
   "outputs": [],
   "source": [
    "from PIL import Image\n",
    "img = Image.open('./Data4/Pareto_Chart.png')\n",
    "display(img)"
   ]
  },
  {
   "cell_type": "code",
   "execution_count": null,
   "id": "1d0adb4e",
   "metadata": {},
   "outputs": [],
   "source": [
    "img = Image.open(\"./Data4/Pareto3.png\")\n",
    "display(img)"
   ]
  },
  {
   "cell_type": "markdown",
   "id": "8ab0f7af",
   "metadata": {},
   "source": [
    "### 3. Diagrama de Causa-Efecto (Diagrama de Ishikawa o Diagrama de Espina de Pescado)\n",
    "\n",
    "Un Diagrama de Causa-Efecto es una representación gráfica que muestra sistemáticamente la relación entre un resultado (caracteristica) y sus causas (factores), siendo una técnica para organizar cómo los factores están relacionados con la caracteristica.\n",
    "\n",
    "#### (1) Cómo eleborar un diagrama de causa-efecto\n",
    "\n",
    "#### (2) Puntos a tener en cuenta al crear un diagrama de causa-efecto\n",
    "\n",
    "#### (3) Puntos clave para la aplicación del diagrama de causa-efecto"
   ]
  },
  {
   "cell_type": "code",
   "execution_count": null,
   "id": "f998b58d",
   "metadata": {},
   "outputs": [],
   "source": [
    "img = Image.open(\"./Data4/DiagramaDeIshikawa.png\")\n",
    "display(img)"
   ]
  },
  {
   "cell_type": "markdown",
   "id": "b34f3047",
   "metadata": {},
   "source": [
    "### 4. Hoja de Verificación\n",
    "\n",
    "Una Hoja de Verficación (o Checklist) es un diagrama o tabla donde se definen de antemano los elementos a verificar, facilitando la recolección sencilla de datos, su organización y el registro de manera que se pueda comprendar fácilmente la situación general.\n",
    "\n",
    "* Hoja de verificación para registro e investigación\n",
    "* Hoja de verificación para inspección y confirmación\n",
    "\n",
    "#### (1) Caracteristicas de la hoja de verificación\n",
    "\n",
    "#### (2) Puntos tener en cuenta al crear una hoja de vefificación\n",
    "\n",
    "\n"
   ]
  },
  {
   "cell_type": "code",
   "execution_count": null,
   "id": "961d029c",
   "metadata": {},
   "outputs": [],
   "source": [
    "img = Image.open(\"./Data4/Hoja de verificación.png\")\n",
    "display(img)"
   ]
  },
  {
   "cell_type": "markdown",
   "id": "a7eb6180",
   "metadata": {},
   "source": [
    "### 5. Histograma\n",
    "\n",
    "Un Histograma es un diagrama de barras que representa la distribución de un conjunto de datos. Los datos se dividen en intervalos (clases) y la altura de cada barra indica la frecuencia (número de datos) que cae dentro de ese intervalo. Permite visualizar la distribución de los datos y su relación con las especificaciones.\n",
    "\n",
    "##### (1) Cómo elaborar un histograma\n",
    "\n",
    "##### (2) Cómo interpretar un histograma\n",
    "\n",
    "#### (3) Sobre la distribución del histograma\n",
    "\n"
   ]
  },
  {
   "cell_type": "code",
   "execution_count": null,
   "id": "b4303b73",
   "metadata": {},
   "outputs": [],
   "source": [
    "img = Image.open(\"./Data4/Histograma.png\")\n",
    "display(img)"
   ]
  },
  {
   "cell_type": "markdown",
   "id": "bdc03d8a",
   "metadata": {},
   "source": [
    "### 6. Diagrama de Dispersión\n",
    "\n",
    "Un Diagrama de Dispersión es una gráfica que muestra la relación mutua (correlación) entre dos tipos de datos emparejados.\n",
    "\n",
    "#### (1) Cómo eleborar un diagrama de dispersión\n",
    "\n",
    "#### (2) Cómo interpretar un diagrama de dispersión\n",
    "\n",
    "#### (3) Puntos a tener en cuenta al observar un diagrama de dispersión\n",
    "\n",
    "1. ¿Hay puntos anormales? / ¿Existen puntos atipicos? / ¿Se observan valores inusuales?\n",
    "2. ¿Cuál es larelación entre los dos conjuntos de datos? ¿Cómo es la relación entre los dos datos? / ¿Qué tipo de relación existe entre los dos datos?\n",
    "3. ¿No será una correlación espuria? / ¿No se tratará de una correlación falsa? / ¿Podría ser una correlación engañosa?\n",
    "4. ¿Cuál es la relación técnica? / ¿Cómo es la relación técnica? / ¿Existe una relación técnica?\n"
   ]
  },
  {
   "cell_type": "code",
   "execution_count": null,
   "id": "3adf4bf8",
   "metadata": {},
   "outputs": [],
   "source": [
    "img = Image.open(\"./Data4/Dispersión.png\")\n",
    "display(img)"
   ]
  },
  {
   "cell_type": "markdown",
   "id": "c13070a5",
   "metadata": {},
   "source": [
    "### 7. Gráficos (Diagramas)\n",
    "\n",
    "Un Gráfico (o Diagrama) es una representación visual de datos que permite comprender de un vistazo la magnitud de los valores y sus cambios a lo largo del tiempo, siendo la metodologia más utilizada dentro de las site herramientas de la calidad.\n",
    "\n",
    "#### (1) Ventajas de los gráficos\n",
    "\n",
    "#### (2) Tipos de gráficos y sus usos\n",
    "\n",
    "1. Gráfico de líneas / Diagrama de líneas\n",
    "2. Gráfico de barras / Diagram de barras\n",
    "3. Gráfico de circular / Diagrama de pastel / Gráfico de torta\n",
    "4. Gráfico de barras apiladas / Diagrama de barras apiladas / Gráfico de banda\n",
    "5. Gráfico de radar / Diagrama de radar / Gráfico de araña / Diagrama de araña\n",
    "\n",
    "#### (3) Puntos a tener en cuenta sobre los gráficos\n"
   ]
  },
  {
   "cell_type": "code",
   "execution_count": null,
   "id": "f940e4c0",
   "metadata": {},
   "outputs": [],
   "source": [
    "img = Image.open(\"./Data4/GraficoDeLinea.png\")\n",
    "display(img)"
   ]
  },
  {
   "cell_type": "code",
   "execution_count": null,
   "id": "847ea4d1",
   "metadata": {},
   "outputs": [],
   "source": [
    "img = Image.open(\"./Data4/GraficoDeBarras.png\")\n",
    "display(img)"
   ]
  },
  {
   "cell_type": "code",
   "execution_count": null,
   "id": "5e8309fe",
   "metadata": {},
   "outputs": [],
   "source": [
    "img = Image.open(\"./Data4/GraficoCircular.png\")\n",
    "display(img)"
   ]
  },
  {
   "cell_type": "code",
   "execution_count": null,
   "id": "c26fe764",
   "metadata": {},
   "outputs": [],
   "source": [
    "img = Image.open(\"./Data4/GraficoDeBarraApiladas.png\")\n",
    "display(img)"
   ]
  },
  {
   "cell_type": "markdown",
   "id": "e2d490e3",
   "metadata": {},
   "source": [
    "### 8. Gráfico de Control\n",
    "\n",
    "Un Gráfico de Control es una herramienta que utiliza un eje vertical para representar los valores de un estadistico (como la media, el rango, la tasa de defectos o el número de defectos) y un eje horizontal para representar las observaciones continuas (generalmente en función del tiempo o el número de muestra). Se utiliza para investigar si un proceso se encuentra en un estado de control estadistico (análisis de procesos) o para mantener un proceso en un estado controlado (control de procesos).\n",
    "\n",
    "#### (1) Cómo elaborar un gráfico de control $ \\bar{X} - R $\n",
    "\n",
    "#### (2) Cómo interpretar un gráfico de control\n",
    "\n"
   ]
  },
  {
   "cell_type": "code",
   "execution_count": null,
   "id": "0551f214",
   "metadata": {},
   "outputs": [],
   "source": [
    "img = Image.open(\"./Data4/Kanrizu.png\")\n",
    "display(img)"
   ]
  },
  {
   "cell_type": "markdown",
   "id": "289b1493",
   "metadata": {},
   "source": [
    "### 9. Estratificación\n",
    "\n",
    "La estratificación consiste en divider los datos en varios grupos (estratos) en función de los puntos en común o las caracteristicas que poseen.\n",
    "\n",
    "#### (1) Puntos a tener en cuenta en la estratificación"
   ]
  },
  {
   "cell_type": "code",
   "execution_count": null,
   "id": "21bca7ac",
   "metadata": {},
   "outputs": [],
   "source": [
    "from IPython.display import display\n",
    "from PIL import Image\n",
    "import gdown\n",
    "import re\n",
    "\n",
    "def get_file_id(url,out):\n",
    "    # 正規表現でファイルIDを抽出\n",
    "    match = re.search(r'/d/([a-zA-Z0-9_-]+)', url)\n",
    "\n",
    "    if match:\n",
    "        file_id = match.group(1)\n",
    "        print(\"ファイルID:\", file_id)\n",
    "    else:\n",
    "        print(\"ファイルIDが見つかりませんでした。\")\n",
    "\n",
    "    url = f\"https://drive.google.com/uc?id={file_id}\"\n",
    "\n",
    "    output = out\n",
    "\n",
    "    gdown.download(url, output, quiet=False)\n",
    "\n",
    "    img = Image.open(out)\n",
    "    display(img)\n"
   ]
  },
  {
   "cell_type": "code",
   "execution_count": null,
   "id": "ea6ff534",
   "metadata": {},
   "outputs": [],
   "source": [
    "url= 'https://drive.google.com/file/d/1Tl9J-MT3FPVhIs77vWX64d-rm-dpteLD/view?usp=drive_link'\n",
    "out = './Data4/Pareto_Chart.png'\n",
    "get_file_id(url,out)"
   ]
  },
  {
   "cell_type": "code",
   "execution_count": null,
   "id": "5c0d0ba0",
   "metadata": {},
   "outputs": [],
   "source": [
    "url= 'https://drive.google.com/file/d/1zjzx_eCFG9zfV9liWDanz0IKsklvRV-4/view?usp=drive_link'\n",
    "out = './Data4/Pareto3.png'\n",
    "get_file_id(url,out)"
   ]
  },
  {
   "cell_type": "code",
   "execution_count": null,
   "id": "3d77436a",
   "metadata": {},
   "outputs": [],
   "source": [
    "url= 'https://drive.google.com/file/d/164KSiQAj_d3ozhIYDFhzupr6k3Qs37LX/view?usp=drive_link'\n",
    "out = './Data4/DiagramaDeIshikawa.png'\n",
    "get_file_id(url,out)"
   ]
  },
  {
   "cell_type": "code",
   "execution_count": null,
   "id": "e810e77d",
   "metadata": {},
   "outputs": [],
   "source": [
    "url= 'https://drive.google.com/file/d/1hSKuEL_tELoGwqb0b3ffx5pl-iAiKs5s/view?usp=drive_link'\n",
    "out = './Data4/Hoja de verificación.png'\n",
    "get_file_id(url,out)\n"
   ]
  },
  {
   "cell_type": "code",
   "execution_count": null,
   "id": "258de21c",
   "metadata": {},
   "outputs": [],
   "source": [
    "url= 'https://drive.google.com/file/d/1-TbXLUN374xuZPsokVGhPqyxbLSWHlZ9/view?usp=drive_link'\n",
    "out = './Data4/Histograma.png'\n",
    "get_file_id(url,out)"
   ]
  },
  {
   "cell_type": "code",
   "execution_count": null,
   "id": "9acaf664",
   "metadata": {},
   "outputs": [],
   "source": [
    "url= 'https://drive.google.com/file/d/1-LzzDHX6Tq2tVtURmTbQ-l1A4LCfxlAW/view?usp=drive_link'\n",
    "out = './Data4/Dispersión.png'\n",
    "get_file_id(url,out)"
   ]
  },
  {
   "cell_type": "code",
   "execution_count": null,
   "id": "7c89ff6e",
   "metadata": {},
   "outputs": [],
   "source": [
    "url= 'https://drive.google.com/file/d/1L7OeUAsuWKytrvpw20KoL_psDQ3T3yLH/view?usp=drive_link'\n",
    "out = './Data4/GraficoDeLinea.png'\n",
    "get_file_id(url,out)"
   ]
  },
  {
   "cell_type": "code",
   "execution_count": null,
   "id": "a5c7ccb3",
   "metadata": {},
   "outputs": [],
   "source": [
    "url= 'https://drive.google.com/file/d/1-Mvekc9ergacWewRnFPLcSDJipkd-cG_/view?usp=drive_link'\n",
    "out = './Data4/GraficoDeBarras.png'\n",
    "get_file_id(url,out)"
   ]
  },
  {
   "cell_type": "code",
   "execution_count": null,
   "id": "0a305dc2",
   "metadata": {},
   "outputs": [],
   "source": [
    "url= 'https://drive.google.com/file/d/1-OmvZpAqyiQ0qcp3AR6BKBx4Pv_I4ZPf/view?usp=drive_link'\n",
    "out = './Data4/GraficoCircular.png'\n",
    "get_file_id(url,out)"
   ]
  },
  {
   "cell_type": "code",
   "execution_count": null,
   "id": "fadc172e",
   "metadata": {},
   "outputs": [],
   "source": [
    "url= 'https://drive.google.com/file/d/1-QLS9zvqEV6LIFL_0g4WXOqzjQWh2pK8/view?usp=drive_lin'\n",
    "out = './Data4/GraficoDeBarraApiladas.png'\n",
    "get_file_id(url,out)"
   ]
  },
  {
   "cell_type": "code",
   "execution_count": null,
   "id": "d8c86c64",
   "metadata": {},
   "outputs": [],
   "source": [
    "url= 'https://drive.google.com/file/d/1-8P72oGEdBXnhN13BOHX-d72tBEmgWya/view?usp=drive_link'\n",
    "out = './Data4/Kanrizu.png'\n",
    "get_file_id(url,out)\n"
   ]
  },
  {
   "cell_type": "code",
   "execution_count": 31,
   "id": "088e6e4a",
   "metadata": {},
   "outputs": [
    {
     "name": "stdout",
     "output_type": "stream",
     "text": [
      "[NbConvertApp] Converting notebook QCKentei4-8.ipynb to html\n",
      "[NbConvertApp] Writing 3922038 bytes to QCKentei4-8.html\n"
     ]
    }
   ],
   "source": [
    "notebook_name = 'QCKentei4-8.ipynb'\n",
    "notebook_name_html = notebook_name.replace(\".ipynb\",\".html\")\n",
    "\n",
    "!jupyter nbconvert --to html {notebook_name}"
   ]
  }
 ],
 "metadata": {
  "kernelspec": {
   "display_name": "Python 3",
   "language": "python",
   "name": "python3"
  },
  "language_info": {
   "codemirror_mode": {
    "name": "ipython",
    "version": 3
   },
   "file_extension": ".py",
   "mimetype": "text/x-python",
   "name": "python",
   "nbconvert_exporter": "python",
   "pygments_lexer": "ipython3",
   "version": "3.10.5"
  }
 },
 "nbformat": 4,
 "nbformat_minor": 5
}
